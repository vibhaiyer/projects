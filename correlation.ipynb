{
 "cells": [
  {
   "cell_type": "code",
   "execution_count": 1,
   "id": "2bf29fcb",
   "metadata": {},
   "outputs": [],
   "source": [
    "#importing useful libraries\n",
    "import numpy as np\n",
    "import matplotlib.pyplot as plt\n",
    "import pandas as pd\n",
    "import seaborn as sns\n",
    "import scipy.stats as s\n",
    "from datetime import datetime, date, timedelta\n",
    "import math"
   ]
  },
  {
   "cell_type": "code",
   "execution_count": 2,
   "id": "14f45f0a",
   "metadata": {
    "scrolled": true
   },
   "outputs": [],
   "source": [
    "#read COVID-19 data \n",
    "Covid_Data = pd.read_csv('merged_df.csv',usecols=[0,2,4,17,18,19,20,21])\n",
    "Covid_Data.rename(columns={'Difference_Yesterday':'PCR_Postive_Count','Hospitalized_diff':'PCR_Positive_Hospitalised','Death_diff':'Deceased'}, inplace = True)\n",
    "#data.drop([0,1], axis=0, inplace=True)\n",
    "Covid_Data['PCR_Positive_Hospitalised'] = Covid_Data['PCR_Positive_Hospitalised'].fillna(0).astype('int64')\n",
    "#Covid_Data"
   ]
  },
  {
   "cell_type": "code",
   "execution_count": 3,
   "id": "602f7b90",
   "metadata": {},
   "outputs": [],
   "source": [
    "Covid_Data1 = Covid_Data\n",
    "Covid_Data1['Date']=pd.to_datetime(Covid_Data['Date'].astype(str), format='%d-%m-%Y')\n",
    "\n",
    "#Covid_Data['Date']= pd.to_datetime(Covid_Data['Date'].datetime.strftime('%m-%d-%Y'))\n",
    "#Covid_Data['Date'] = Covid_Data['Date'].datetime.strftime('%m-%d-%Y')\n",
    "#print(Covid_Data['Date'])\n"
   ]
  },
  {
   "cell_type": "code",
   "execution_count": 4,
   "id": "6b7d4e18",
   "metadata": {},
   "outputs": [],
   "source": [
    "#Autumn\n",
    "#Aut_mon = ['2021KW39','2021KW40','2021KW41','2021KW42','2021KW43','2021KW44','2021KW45','2021KW46','2021KW47']\n",
    "end_dt_aut = '28-11-2021'\n",
    "data_autumn = Covid_Data1.loc[Covid_Data['Date'] <= pd.to_datetime(end_dt_aut, format='%d-%m-%Y')]\n",
    "#data_autumn.to_csv('result.csv')\n",
    "\n",
    "#Winter\n",
    "\"\"\"\n",
    "Win_mon = ['2021KW48','2021KW49','2021KW50','2021KW51','2021KW52','2022KW01','2022KW02','2022KW03','2022KW04','2022KW05','2022KW06','2022KW07','2022KW08']\n",
    "data_winter = data[data['Week'].isin(Win_mon)]\n",
    "\"\"\"\n",
    "str_dt_win = '29-11-2021'\n",
    "end_dt_win = '27-02-2022'\n",
    "data_winter = Covid_Data1.loc[(Covid_Data1['Date'] >= pd.to_datetime(str_dt_win, format='%d-%m-%Y')) & (Covid_Data1['Date'] <= pd.to_datetime(end_dt_win, format='%d-%m-%Y'))]\n",
    "#data_winter.to_csv('result1.csv')\n",
    "#data_autumn.tail(20)\n",
    "\n",
    "#Spring\n",
    "\"\"\"\n",
    "Spr_mon = ['2022KW09','2022KW10','2022KW11','2022KW12','2022KW13','2022KW14','2022KW15','2022KW16','2022KW17','2022KW18','2022KW19','2022KW20']\n",
    "data_spring = data[data['Week'].isin(Spr_mon)]\n",
    "\"\"\"\n",
    "str_dt_spr = '28-02-2022'\n",
    "data_spring = Covid_Data1.loc[(Covid_Data1['Date'] >= pd.to_datetime(str_dt_spr, format='%d-%m-%Y'))]\n",
    "#data_spring.to_csv('result2.csv')\n",
    "#data_autumn.tail(20)\n"
   ]
  },
  {
   "cell_type": "code",
   "execution_count": 5,
   "id": "1174ba71",
   "metadata": {},
   "outputs": [],
   "source": [
    "#printing dataframes\n",
    "#data_autumn.head(10)\n",
    "#data_autumn.tail(10)\n",
    "\n",
    "#data_winter.head(10)\n",
    "#data_winter.tail(10)\n",
    "\n",
    "#data_spring.head(10)\n",
    "#data_spring.tail(10)"
   ]
  },
  {
   "cell_type": "code",
   "execution_count": 6,
   "id": "184e99df",
   "metadata": {},
   "outputs": [
    {
     "data": {
      "text/plain": [
       "'\\nCorrelation:\\n1. Positive: when one variable moves higher or lower, the other variable moves in the same direction with the same magnitude.\\n2. Negative: if one variable increases, the other variable decreases with the same magnitude (and vice versa).\\n'"
      ]
     },
     "execution_count": 6,
     "metadata": {},
     "output_type": "execute_result"
    }
   ],
   "source": [
    "\"\"\"\n",
    "Correlation:\n",
    "1. Positive: when one variable moves higher or lower, the other variable moves in the same direction with the same magnitude.\n",
    "2. Negative: if one variable increases, the other variable decreases with the same magnitude (and vice versa).\n",
    "\"\"\""
   ]
  },
  {
   "cell_type": "code",
   "execution_count": 7,
   "id": "f731cc91",
   "metadata": {},
   "outputs": [],
   "source": [
    "#correlation matrix --- Kendall\n",
    "\n",
    "def find_cor_sig(data,final_list,season_name):\n",
    "    covid_param = ['PCR_Postive_Count','PCR_Positive_Hospitalised','Deceased']\n",
    "    weather_param = ['temperature','wind_speed','relative_humidity']\n",
    "    return_list = []\n",
    "    for i in range(0,len(covid_param)):\n",
    "        for j in range(0,len(weather_param)):\n",
    "            corr_kendall= s.kendalltau(data[covid_param[i]],data[weather_param[j]])\n",
    "            corr = round(corr_kendall[0],4)\n",
    "            sig = corr_kendall[1] <= 0.05\n",
    "            return_list.append(('Kendall-Tau',season_name,covid_param[i],weather_param[j],corr,corr_kendall[1],sig))\n",
    "    for i in range(0,len(covid_param)):\n",
    "        for j in range(0,len(weather_param)):\n",
    "            corr_spear= s.spearmanr(data[covid_param[i]],data[weather_param[j]])\n",
    "            corr = round(corr_spear[0],4)\n",
    "            sig = corr_spear[1] <= 0.05\n",
    "            return_list.append(('Spearmann',season_name,covid_param[i],weather_param[j],corr,corr_spear[1],sig))        \n",
    "        \n",
    "    #corr_kendall1= data.corr(method='kendall')\n",
    "    for val in range(0,len(return_list)):\n",
    "        final_list.append(return_list[val])\n",
    "    return final_list"
   ]
  },
  {
   "cell_type": "code",
   "execution_count": 8,
   "id": "bbda42c8",
   "metadata": {},
   "outputs": [],
   "source": [
    "#corr_kendall_aut1.style.background_gradient(cmap='Oranges')\n",
    "#----------autumn months correlation--------------  \n",
    "final_list = []\n",
    "final_list1 = find_cor_sig(data_autumn,final_list,'Autumn')\n",
    "final_list2 = find_cor_sig(data_winter,final_list1,'Winter')\n",
    "final_list3 = find_cor_sig(data_spring,final_list2,'Spring')\n",
    "\n",
    "corr_sig_data = pd.DataFrame (final_list3, columns = ['Correlation Method','Season','Covid_Column','Weather_Column','Correlation','Significance_value','Significance'])\n",
    "corr_sig_data.to_csv('corr_sig_data.csv')"
   ]
  },
  {
   "cell_type": "code",
   "execution_count": null,
   "id": "ef529434",
   "metadata": {},
   "outputs": [],
   "source": []
  }
 ],
 "metadata": {
  "kernelspec": {
   "display_name": "Python 3 (ipykernel)",
   "language": "python",
   "name": "python3"
  },
  "language_info": {
   "codemirror_mode": {
    "name": "ipython",
    "version": 3
   },
   "file_extension": ".py",
   "mimetype": "text/x-python",
   "name": "python",
   "nbconvert_exporter": "python",
   "pygments_lexer": "ipython3",
   "version": "3.9.7"
  }
 },
 "nbformat": 4,
 "nbformat_minor": 5
}
