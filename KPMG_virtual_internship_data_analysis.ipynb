{
 "cells": [
  {
   "cell_type": "code",
   "execution_count": 1,
   "id": "c7c0785d",
   "metadata": {},
   "outputs": [],
   "source": [
    "#importing useful libraries\n",
    "import numpy as np\n",
    "import matplotlib.pyplot as plt\n",
    "import pandas as pd\n",
    "import seaborn as sns\n",
    "import scipy.stats as s\n",
    "import math\n",
    "import datetime as dt\n",
    "from dateutil.relativedelta import relativedelta\n",
    "import warnings"
   ]
  },
  {
   "cell_type": "code",
   "execution_count": 2,
   "id": "6bce8fe7",
   "metadata": {},
   "outputs": [],
   "source": [
    "warnings.filterwarnings('ignore')\n",
    "#read data \n",
    "cus_dem = pd.read_csv('Customer_demographic.csv',usecols=lambda x: x != 'default')\n",
    "cus_add = pd.read_csv('Customer_address.csv')\n",
    "cus_txn = pd.read_csv('Transaction.csv')\n",
    "#Covid_Data.rename(columns={'Difference_Yesterday':'PCR_Postive_Count','Hospitalized_diff':'PCR_Positive_Hospitalised','Death_diff':'Deceased'}, inplace = True)\n"
   ]
  },
  {
   "cell_type": "code",
   "execution_count": 3,
   "id": "a46a40c5",
   "metadata": {},
   "outputs": [],
   "source": [
    "#cus_dem.head(10)\n",
    "#cus_add.head(10)\n",
    "#cus_txn.head(10)"
   ]
  },
  {
   "cell_type": "code",
   "execution_count": 4,
   "id": "9090d2bd",
   "metadata": {},
   "outputs": [
    {
     "name": "stdout",
     "output_type": "stream",
     "text": [
      "customer_id                                     int64\n",
      "first_name                                     object\n",
      "last_name                                      object\n",
      "gender                                         object\n",
      "past_3_years_bike_related_purchases             int64\n",
      "DOB                                    datetime64[ns]\n",
      "job_title                                      object\n",
      "job_industry_category                          object\n",
      "wealth_segment                                 object\n",
      "deceased_indicator                             object\n",
      "owns_car                                       object\n",
      "tenure                                        float64\n",
      "Age                                             int32\n",
      "dtype: object\n"
     ]
    }
   ],
   "source": [
    "cus_dem['DOB']=pd.to_datetime(cus_dem['DOB'])\n",
    "#cus_dem['Age'] = [relativedelta(pd.to_datetime('now'), d).years for d in cus_dem['DOB']]\n",
    "now = pd.to_datetime('now')\n",
    "cus_dem['Age'] = (now.year - cus_dem['DOB'].dt.year) - ((now.month - cus_dem['DOB'].dt.month) < 0)\n",
    "#cus_dem['Age'] = cus_dem[\"DOB\"].apply(lambda x : (pd.datetime.now().year - x.year))\n",
    "cus_dem['Age'] = cus_dem['Age'].fillna(0)\n",
    "cus_dem['Age'] = cus_dem['Age'].astype(int)\n",
    "print(cus_dem.dtypes)"
   ]
  },
  {
   "cell_type": "code",
   "execution_count": 5,
   "id": "22e3d290",
   "metadata": {},
   "outputs": [],
   "source": [
    "cus_dem.to_csv('cus_dem_age.csv')"
   ]
  },
  {
   "cell_type": "code",
   "execution_count": 6,
   "id": "8822241b",
   "metadata": {},
   "outputs": [],
   "source": [
    "cus_dem_txn = cus_dem.merge(cus_txn, on=\"customer_id\", how='inner')"
   ]
  },
  {
   "cell_type": "code",
   "execution_count": 7,
   "id": "784e16d1",
   "metadata": {},
   "outputs": [],
   "source": [
    "cus_dem_txn_filtered = cus_dem_txn[cus_dem_txn['brand'].notna()]"
   ]
  },
  {
   "cell_type": "code",
   "execution_count": 8,
   "id": "ecc86389",
   "metadata": {},
   "outputs": [
    {
     "data": {
      "text/plain": [
       "\"\\ncus_dem_txn_filtered['brand_int'] = 0\\ncus_dem_txn_filtered['brand_int'][cus_dem_txn_filtered['brand'].astype(str).str.contains('Solex')] = 1\\ncus_dem_txn_filtered['brand_int'][cus_dem_txn_filtered['brand'].astype(str).str.contains('Trek Bicycles')] = 2\\ncus_dem_txn_filtered['brand_int'][cus_dem_txn_filtered['brand'].astype(str).str.contains('OHM Cycles')] = 3\\ncus_dem_txn_filtered['brand_int'][cus_dem_txn_filtered['brand'].astype(str).str.contains('Norco Bicycles')] = 4\\ncus_dem_txn_filtered['brand_int'][cus_dem_txn_filtered['brand'].astype(str).str.contains('Giant Bicycles')] = 5\\ncus_dem_txn_filtered['brand_int'][cus_dem_txn_filtered['brand'].astype(str).str.contains('WeareA2B')] = 6\\n#cus_dem_txn_filtered['brand_int'] = df['brand'].str.contains('a').astype(int)\\n\""
      ]
     },
     "execution_count": 8,
     "metadata": {},
     "output_type": "execute_result"
    }
   ],
   "source": [
    "\"\"\"\n",
    "cus_dem_txn_filtered['brand_int'] = 0\n",
    "cus_dem_txn_filtered['brand_int'][cus_dem_txn_filtered['brand'].astype(str).str.contains('Solex')] = 1\n",
    "cus_dem_txn_filtered['brand_int'][cus_dem_txn_filtered['brand'].astype(str).str.contains('Trek Bicycles')] = 2\n",
    "cus_dem_txn_filtered['brand_int'][cus_dem_txn_filtered['brand'].astype(str).str.contains('OHM Cycles')] = 3\n",
    "cus_dem_txn_filtered['brand_int'][cus_dem_txn_filtered['brand'].astype(str).str.contains('Norco Bicycles')] = 4\n",
    "cus_dem_txn_filtered['brand_int'][cus_dem_txn_filtered['brand'].astype(str).str.contains('Giant Bicycles')] = 5\n",
    "cus_dem_txn_filtered['brand_int'][cus_dem_txn_filtered['brand'].astype(str).str.contains('WeareA2B')] = 6\n",
    "#cus_dem_txn_filtered['brand_int'] = df['brand'].str.contains('a').astype(int)\n",
    "\"\"\""
   ]
  },
  {
   "cell_type": "code",
   "execution_count": 9,
   "id": "076425fb",
   "metadata": {},
   "outputs": [],
   "source": [
    "cus_dem_txn_filtered = cus_dem_txn_filtered[cus_dem_txn_filtered['Age']<101]\n",
    "#cus_dem_txn_filtered"
   ]
  },
  {
   "cell_type": "code",
   "execution_count": 10,
   "id": "8404dca3",
   "metadata": {},
   "outputs": [
    {
     "data": {
      "text/plain": [
       "\"\\nplt.bar(cus_dem_txn_filtered['Age'],cus_dem_txn_filtered['brand_int'])\\nplt.title('Age v/s Brand')\\nplt.xlabel('Brand')\\nplt.ylabel('Age')\\nplt.show()\\n\""
      ]
     },
     "execution_count": 10,
     "metadata": {},
     "output_type": "execute_result"
    }
   ],
   "source": [
    "\"\"\"\n",
    "plt.bar(cus_dem_txn_filtered['Age'],cus_dem_txn_filtered['brand_int'])\n",
    "plt.title('Age v/s Brand')\n",
    "plt.xlabel('Brand')\n",
    "plt.ylabel('Age')\n",
    "plt.show()\n",
    "\"\"\""
   ]
  },
  {
   "cell_type": "code",
   "execution_count": 11,
   "id": "e9f697d6",
   "metadata": {},
   "outputs": [],
   "source": [
    "age_groups = pd.cut(cus_dem_txn_filtered['Age'], bins=[0,1,20, 40, 60,100, np.inf])"
   ]
  },
  {
   "cell_type": "code",
   "execution_count": 12,
   "id": "f430404c",
   "metadata": {},
   "outputs": [
    {
     "data": {
      "text/html": [
       "<div>\n",
       "<style scoped>\n",
       "    .dataframe tbody tr th:only-of-type {\n",
       "        vertical-align: middle;\n",
       "    }\n",
       "\n",
       "    .dataframe tbody tr th {\n",
       "        vertical-align: top;\n",
       "    }\n",
       "\n",
       "    .dataframe thead th {\n",
       "        text-align: right;\n",
       "    }\n",
       "</style>\n",
       "<table border=\"1\" class=\"dataframe\">\n",
       "  <thead>\n",
       "    <tr style=\"text-align: right;\">\n",
       "      <th>brand</th>\n",
       "      <th>Giant Bicycles</th>\n",
       "      <th>Norco Bicycles</th>\n",
       "      <th>OHM Cycles</th>\n",
       "      <th>Solex</th>\n",
       "      <th>Trek Bicycles</th>\n",
       "      <th>WeareA2B</th>\n",
       "    </tr>\n",
       "    <tr>\n",
       "      <th>Age</th>\n",
       "      <th></th>\n",
       "      <th></th>\n",
       "      <th></th>\n",
       "      <th></th>\n",
       "      <th></th>\n",
       "      <th></th>\n",
       "    </tr>\n",
       "  </thead>\n",
       "  <tbody>\n",
       "    <tr>\n",
       "      <th>(1.0, 20.0]</th>\n",
       "      <td>14</td>\n",
       "      <td>11</td>\n",
       "      <td>16</td>\n",
       "      <td>16</td>\n",
       "      <td>8</td>\n",
       "      <td>12</td>\n",
       "    </tr>\n",
       "    <tr>\n",
       "      <th>(20.0, 40.0]</th>\n",
       "      <td>1054</td>\n",
       "      <td>939</td>\n",
       "      <td>1024</td>\n",
       "      <td>1428</td>\n",
       "      <td>993</td>\n",
       "      <td>1065</td>\n",
       "    </tr>\n",
       "    <tr>\n",
       "      <th>(40.0, 60.0]</th>\n",
       "      <td>1708</td>\n",
       "      <td>1506</td>\n",
       "      <td>1548</td>\n",
       "      <td>2182</td>\n",
       "      <td>1533</td>\n",
       "      <td>1726</td>\n",
       "    </tr>\n",
       "    <tr>\n",
       "      <th>(60.0, 100.0]</th>\n",
       "      <td>464</td>\n",
       "      <td>375</td>\n",
       "      <td>391</td>\n",
       "      <td>549</td>\n",
       "      <td>387</td>\n",
       "      <td>405</td>\n",
       "    </tr>\n",
       "  </tbody>\n",
       "</table>\n",
       "</div>"
      ],
      "text/plain": [
       "brand          Giant Bicycles  Norco Bicycles  OHM Cycles  Solex  \\\n",
       "Age                                                                \n",
       "(1.0, 20.0]                14              11          16     16   \n",
       "(20.0, 40.0]             1054             939        1024   1428   \n",
       "(40.0, 60.0]             1708            1506        1548   2182   \n",
       "(60.0, 100.0]             464             375         391    549   \n",
       "\n",
       "brand          Trek Bicycles  WeareA2B  \n",
       "Age                                     \n",
       "(1.0, 20.0]                8        12  \n",
       "(20.0, 40.0]             993      1065  \n",
       "(40.0, 60.0]            1533      1726  \n",
       "(60.0, 100.0]            387       405  "
      ]
     },
     "execution_count": 12,
     "metadata": {},
     "output_type": "execute_result"
    }
   ],
   "source": [
    "df_agegrp_brand = pd.crosstab(age_groups, cus_dem_txn_filtered['brand'])\n",
    "df_agegrp_brand"
   ]
  },
  {
   "cell_type": "code",
   "execution_count": 13,
   "id": "3603d609",
   "metadata": {},
   "outputs": [
    {
     "data": {
      "text/html": [
       "<div>\n",
       "<style scoped>\n",
       "    .dataframe tbody tr th:only-of-type {\n",
       "        vertical-align: middle;\n",
       "    }\n",
       "\n",
       "    .dataframe tbody tr th {\n",
       "        vertical-align: top;\n",
       "    }\n",
       "\n",
       "    .dataframe thead th {\n",
       "        text-align: right;\n",
       "    }\n",
       "</style>\n",
       "<table border=\"1\" class=\"dataframe\">\n",
       "  <thead>\n",
       "    <tr style=\"text-align: right;\">\n",
       "      <th>Transaction Count</th>\n",
       "      <th>19792</th>\n",
       "    </tr>\n",
       "    <tr>\n",
       "      <th>Age</th>\n",
       "      <th></th>\n",
       "    </tr>\n",
       "  </thead>\n",
       "  <tbody>\n",
       "    <tr>\n",
       "      <th>(1.0, 20.0]</th>\n",
       "      <td>77</td>\n",
       "    </tr>\n",
       "    <tr>\n",
       "      <th>(20.0, 40.0]</th>\n",
       "      <td>6503</td>\n",
       "    </tr>\n",
       "    <tr>\n",
       "      <th>(40.0, 60.0]</th>\n",
       "      <td>10203</td>\n",
       "    </tr>\n",
       "    <tr>\n",
       "      <th>(60.0, 100.0]</th>\n",
       "      <td>2571</td>\n",
       "    </tr>\n",
       "  </tbody>\n",
       "</table>\n",
       "</div>"
      ],
      "text/plain": [
       "Transaction Count  19792\n",
       "Age                     \n",
       "(1.0, 20.0]           77\n",
       "(20.0, 40.0]        6503\n",
       "(40.0, 60.0]       10203\n",
       "(60.0, 100.0]       2571"
      ]
     },
     "execution_count": 13,
     "metadata": {},
     "output_type": "execute_result"
    }
   ],
   "source": [
    "df_agegrp_txncnt = pd.crosstab(age_groups, cus_dem_txn_filtered['transaction_id'].count(), colnames=['Transaction Count'])\n",
    "df_agegrp_txncnt"
   ]
  },
  {
   "cell_type": "code",
   "execution_count": 14,
   "id": "33cb1da0",
   "metadata": {},
   "outputs": [
    {
     "data": {
      "text/html": [
       "<div>\n",
       "<style scoped>\n",
       "    .dataframe tbody tr th:only-of-type {\n",
       "        vertical-align: middle;\n",
       "    }\n",
       "\n",
       "    .dataframe tbody tr th {\n",
       "        vertical-align: top;\n",
       "    }\n",
       "\n",
       "    .dataframe thead th {\n",
       "        text-align: right;\n",
       "    }\n",
       "</style>\n",
       "<table border=\"1\" class=\"dataframe\">\n",
       "  <thead>\n",
       "    <tr style=\"text-align: right;\">\n",
       "      <th>gender</th>\n",
       "      <th>F</th>\n",
       "      <th>M</th>\n",
       "    </tr>\n",
       "    <tr>\n",
       "      <th>Age</th>\n",
       "      <th></th>\n",
       "      <th></th>\n",
       "    </tr>\n",
       "  </thead>\n",
       "  <tbody>\n",
       "    <tr>\n",
       "      <th>(1.0, 20.0]</th>\n",
       "      <td>40</td>\n",
       "      <td>37</td>\n",
       "    </tr>\n",
       "    <tr>\n",
       "      <th>(20.0, 40.0]</th>\n",
       "      <td>3249</td>\n",
       "      <td>3254</td>\n",
       "    </tr>\n",
       "    <tr>\n",
       "      <th>(40.0, 60.0]</th>\n",
       "      <td>5358</td>\n",
       "      <td>4845</td>\n",
       "    </tr>\n",
       "    <tr>\n",
       "      <th>(60.0, 100.0]</th>\n",
       "      <td>1274</td>\n",
       "      <td>1297</td>\n",
       "    </tr>\n",
       "  </tbody>\n",
       "</table>\n",
       "</div>"
      ],
      "text/plain": [
       "gender            F     M\n",
       "Age                      \n",
       "(1.0, 20.0]      40    37\n",
       "(20.0, 40.0]   3249  3254\n",
       "(40.0, 60.0]   5358  4845\n",
       "(60.0, 100.0]  1274  1297"
      ]
     },
     "execution_count": 14,
     "metadata": {},
     "output_type": "execute_result"
    }
   ],
   "source": [
    "df_agegrp_gender = pd.crosstab(age_groups, cus_dem_txn_filtered['gender'])\n",
    "df_agegrp_gender"
   ]
  },
  {
   "cell_type": "code",
   "execution_count": 15,
   "id": "f5d5da67",
   "metadata": {},
   "outputs": [],
   "source": [
    "cus_add_txn = cus_add.merge(cus_txn, on=\"customer_id\", how='inner')\n",
    "#cus_add_txn"
   ]
  },
  {
   "cell_type": "code",
   "execution_count": 16,
   "id": "bf3a2bf0",
   "metadata": {},
   "outputs": [
    {
     "data": {
      "text/html": [
       "<div>\n",
       "<style scoped>\n",
       "    .dataframe tbody tr th:only-of-type {\n",
       "        vertical-align: middle;\n",
       "    }\n",
       "\n",
       "    .dataframe tbody tr th {\n",
       "        vertical-align: top;\n",
       "    }\n",
       "\n",
       "    .dataframe thead th {\n",
       "        text-align: right;\n",
       "    }\n",
       "</style>\n",
       "<table border=\"1\" class=\"dataframe\">\n",
       "  <thead>\n",
       "    <tr style=\"text-align: right;\">\n",
       "      <th>brand</th>\n",
       "      <th>Giant Bicycles</th>\n",
       "      <th>Norco Bicycles</th>\n",
       "      <th>OHM Cycles</th>\n",
       "      <th>Solex</th>\n",
       "      <th>Trek Bicycles</th>\n",
       "      <th>WeareA2B</th>\n",
       "    </tr>\n",
       "    <tr>\n",
       "      <th>state</th>\n",
       "      <th></th>\n",
       "      <th></th>\n",
       "      <th></th>\n",
       "      <th></th>\n",
       "      <th></th>\n",
       "      <th></th>\n",
       "    </tr>\n",
       "  </thead>\n",
       "  <tbody>\n",
       "    <tr>\n",
       "      <th>NSW</th>\n",
       "      <td>1735</td>\n",
       "      <td>1587</td>\n",
       "      <td>1663</td>\n",
       "      <td>2249</td>\n",
       "      <td>1583</td>\n",
       "      <td>1746</td>\n",
       "    </tr>\n",
       "    <tr>\n",
       "      <th>QLD</th>\n",
       "      <td>717</td>\n",
       "      <td>628</td>\n",
       "      <td>652</td>\n",
       "      <td>902</td>\n",
       "      <td>613</td>\n",
       "      <td>710</td>\n",
       "    </tr>\n",
       "    <tr>\n",
       "      <th>VIC</th>\n",
       "      <td>856</td>\n",
       "      <td>690</td>\n",
       "      <td>724</td>\n",
       "      <td>1097</td>\n",
       "      <td>787</td>\n",
       "      <td>834</td>\n",
       "    </tr>\n",
       "  </tbody>\n",
       "</table>\n",
       "</div>"
      ],
      "text/plain": [
       "brand  Giant Bicycles  Norco Bicycles  OHM Cycles  Solex  Trek Bicycles  \\\n",
       "state                                                                     \n",
       "NSW              1735            1587        1663   2249           1583   \n",
       "QLD               717             628         652    902            613   \n",
       "VIC               856             690         724   1097            787   \n",
       "\n",
       "brand  WeareA2B  \n",
       "state            \n",
       "NSW        1746  \n",
       "QLD         710  \n",
       "VIC         834  "
      ]
     },
     "execution_count": 16,
     "metadata": {},
     "output_type": "execute_result"
    }
   ],
   "source": [
    "df_state_brand = pd.crosstab(cus_add_txn['state'], cus_add_txn['brand'])\n",
    "df_state_brand"
   ]
  },
  {
   "cell_type": "code",
   "execution_count": null,
   "id": "5be9ae4f",
   "metadata": {},
   "outputs": [],
   "source": []
  }
 ],
 "metadata": {
  "kernelspec": {
   "display_name": "Python 3 (ipykernel)",
   "language": "python",
   "name": "python3"
  },
  "language_info": {
   "codemirror_mode": {
    "name": "ipython",
    "version": 3
   },
   "file_extension": ".py",
   "mimetype": "text/x-python",
   "name": "python",
   "nbconvert_exporter": "python",
   "pygments_lexer": "ipython3",
   "version": "3.9.7"
  }
 },
 "nbformat": 4,
 "nbformat_minor": 5
}
